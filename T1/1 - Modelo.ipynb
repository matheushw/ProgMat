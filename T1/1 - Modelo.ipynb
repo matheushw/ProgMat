{
 "cells": [
  {
   "cell_type": "code",
   "execution_count": 6,
   "source": [
    "using JuMP\n",
    "\n",
    "# Criando o modelo genêrico\n",
    "model = Model()"
   ],
   "outputs": [
    {
     "output_type": "execute_result",
     "data": {
      "text/plain": [
       "A JuMP Model\n",
       "Feasibility problem with:\n",
       "Variables: 0\n",
       "Model mode: AUTOMATIC\n",
       "CachingOptimizer state: NO_OPTIMIZER\n",
       "Solver name: No optimizer attached."
      ]
     },
     "metadata": {},
     "execution_count": 6
    }
   ],
   "metadata": {}
  },
  {
   "cell_type": "code",
   "execution_count": null,
   "source": [
    "# Definindo um número de agentes\n",
    "n = 5\n",
    "\n",
    "# Definindo matriz para amazenar os custos\n",
    "c = zeros(n, n)\n",
    "\n",
    "# Xij = {0,1}\n",
    "@variable(model,x[i=1:n,j=1:n],Bin)\n",
    "\n",
    "# Função objetivo\n",
    "@objective(model, Max, sum(c[i, j] * x[i, j] for i in 1:n, j in 1:n))\n",
    "\n",
    "# Restrições para garantir a saída de todo vértice\n",
    "for i in 1:n\n",
    "    @constraint(model,sum(x[i,j] for j in 1 : n) == 1)\n",
    "end\n",
    "\n",
    "# Restrições para garantir a chegada em cada vértice\n",
    "for j in 1:n\n",
    "    @constraint(model,sum(x[i,j] for i in 1:n) == 1)\n",
    "end"
   ],
   "outputs": [],
   "metadata": {}
  }
 ],
 "metadata": {
  "kernelspec": {
   "display_name": "Julia 1.6.3",
   "language": "julia",
   "name": "julia-1.6"
  },
  "language_info": {
   "file_extension": ".jl",
   "mimetype": "application/julia",
   "name": "julia",
   "version": "1.6.3"
  }
 },
 "nbformat": 4,
 "nbformat_minor": 5
}