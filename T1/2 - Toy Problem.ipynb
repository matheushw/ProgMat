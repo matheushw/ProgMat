{
 "cells": [
  {
   "cell_type": "code",
   "execution_count": 1,
   "id": "16cf5f39",
   "metadata": {},
   "outputs": [
    {
     "name": "stdout",
     "output_type": "stream",
     "text": [
      "Academic license - for non-commercial use only - expires 2021-11-25\n"
     ]
    },
    {
     "data": {
      "text/plain": [
       "0.0"
      ]
     },
     "execution_count": 1,
     "metadata": {},
     "output_type": "execute_result"
    }
   ],
   "source": [
    "using JuMP\n",
    "using Gurobi\n",
    "\n",
    "const GRB_ENV = Gurobi.Env()\n",
    "\n",
    "# Criando o modelo com o resolvedor Gurobi sem heurística e tempo limite de 30min\n",
    "model = Model(() -> Gurobi.Optimizer(GRB_ENV))\n",
    "set_optimizer_attribute(model, \"TimeLimit\", 30)\n",
    "set_optimizer_attribute(model, \"Heuristics\", 0.0)"
   ]
  },
  {
   "cell_type": "code",
   "execution_count": 2,
   "id": "22e2baa6",
   "metadata": {},
   "outputs": [],
   "source": [
    "# Definindo um número de agentes\n",
    "n = 5\n",
    "\n",
    "# Definindo matriz de custos\n",
    "c = [ 7  6  5  7 10;\n",
    "     6  7  7  7  9;\n",
    "     8  8  9  8  9;\n",
    "     7  6  4  2  4;\n",
    "    10  2  3  3  4]\n",
    "\n",
    "# Definindo variável de decisão -> Xij = {0,1}\n",
    "@variable(model,x[i=1:n,j=1:n],Bin)\n",
    "\n",
    "# Função objetivo\n",
    "@objective(model, Max, sum(c[i, j] * x[i, j] for i in 1:n, j in 1:n))\n",
    "\n",
    "# Restrições para garantir a saída de todo vértice\n",
    "for i in 1:n\n",
    "    @constraint(model,sum(x[i,j] for j in 1 : n) == 1)\n",
    "end\n",
    "\n",
    "# Restrições para garantir a chegada em cada vértice\n",
    "for j in 1:n\n",
    "    @constraint(model,sum(x[i,j] for i in 1:n) == 1)\n",
    "end"
   ]
  },
  {
   "cell_type": "markdown",
   "id": "141cec14",
   "metadata": {},
   "source": [
    "Tendo a matriz de custo:\n",
    "\n",
    "$ c = \\begin{bmatrix}\n",
    "    7 & 6 & 5 & 7 & 10\\\\\n",
    "    6 & 7 & 7 & 7 &  9\\\\\n",
    "    8 & 8 & 9 & 8 &  9\\\\\n",
    "    7 & 6 & 4 & 2 &  4\\\\\n",
    "    10 & 2 & 3 & 3 &  4\\\\\n",
    "\\end{bmatrix}\n",
    "$.\n",
    "\n",
    "Temos que a matriz que maximiza a função objetivo do problema é dada por:\n",
    "\n",
    "$ x = \\begin{bmatrix}\n",
    "    0 & 0 & 0 & 0 & 1\\\\\n",
    "    0 & 0 & 0 & 1 & 0\\\\\n",
    "    0 & 0 & 1 & 0 & 0\\\\\n",
    "    0 & 1 & 0 & 0 & 0\\\\\n",
    "    1 & 0 & 0 & 0 & 0\\\\\n",
    "\\end{bmatrix}\n",
    "$.\n",
    "\n",
    "Portanto, temos que a solução ótima é 42."
   ]
  },
  {
   "cell_type": "code",
   "execution_count": 3,
   "id": "9ad362ee",
   "metadata": {},
   "outputs": [
    {
     "name": "stdout",
     "output_type": "stream",
     "text": [
      "Gurobi Optimizer version 9.1.2 build v9.1.2rc0 (mac64)\n",
      "Thread count: 8 physical cores, 8 logical processors, using up to 8 threads\n",
      "Optimize a model with 10 rows, 25 columns and 50 nonzeros\n",
      "Model fingerprint: 0x5871b9e4\n",
      "Variable types: 0 continuous, 25 integer (25 binary)\n",
      "Coefficient statistics:\n",
      "  Matrix range     [1e+00, 1e+00]\n",
      "  Objective range  [2e+00, 1e+01]\n",
      "  Bounds range     [0e+00, 0e+00]\n",
      "  RHS range        [1e+00, 1e+00]\n",
      "Presolve time: 0.00s\n",
      "Presolved: 10 rows, 25 columns, 50 nonzeros\n",
      "Variable types: 0 continuous, 25 integer (25 binary)\n",
      "\n",
      "Root relaxation: objective 4.200000e+01, 8 iterations, 0.00 seconds\n",
      "\n",
      "    Nodes    |    Current Node    |     Objective Bounds      |     Work\n",
      " Expl Unexpl |  Obj  Depth IntInf | Incumbent    BestBd   Gap | It/Node Time\n",
      "\n",
      "*    0     0               0      42.0000000   42.00000  0.00%     -    0s\n",
      "\n",
      "Explored 0 nodes (8 simplex iterations) in 0.00 seconds\n",
      "Thread count was 8 (of 8 available processors)\n",
      "\n",
      "Solution count 1: 42 \n",
      "\n",
      "Optimal solution found (tolerance 1.00e-04)\n",
      "Best objective 4.200000000000e+01, best bound 4.200000000000e+01, gap 0.0000%\n",
      "\n",
      "User-callback calls 38, time in user-callback 0.00 sec\n"
     ]
    }
   ],
   "source": [
    "# Trazendo uma solução otima\n",
    "solution = optimize!(model)"
   ]
  }
 ],
 "metadata": {
  "kernelspec": {
   "display_name": "Julia 1.6.3",
   "language": "julia",
   "name": "julia-1.6"
  },
  "language_info": {
   "file_extension": ".jl",
   "mimetype": "application/julia",
   "name": "julia",
   "version": "1.6.3"
  }
 },
 "nbformat": 4,
 "nbformat_minor": 5
}
