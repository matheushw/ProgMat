{
 "cells": [
  {
   "cell_type": "markdown",
   "id": "e23099b4",
   "metadata": {},
   "source": [
    "# Setup\n",
    "Como primeira etapa, precisamos intalar todos os pacotes necessários"
   ]
  },
  {
   "cell_type": "code",
   "execution_count": null,
   "id": "7842cf1f",
   "metadata": {},
   "outputs": [],
   "source": [
    "using Pkg\n",
    "\n",
    "Pkg.add(\"JuMP\")\n",
    "Pkg.add(\"DelimitedFiles\")\n",
    "Pkg.add(\"Cbc\")\n",
    "Pkg.add(\"MathOptInterface\")\n",
    "Pkg.add(\"CSV\")\n",
    "Pkg.add(\"DataFrames\")\n",
    "Pkg.add(\"Hungarian\")\n",
    "\n",
    "# Para executar a instalação do pacote gurobi é preciso de setar a várivel de ambiente do solver \n",
    "# (Processo depende da obteção de uma licensa e do sistema opreacional)\n",
    "Pkg.add(\"Gurobi\")"
   ]
  }
 ],
 "metadata": {
  "kernelspec": {
   "display_name": "Julia 1.6.3",
   "language": "julia",
   "name": "julia-1.6"
  },
  "language_info": {
   "file_extension": ".jl",
   "mimetype": "application/julia",
   "name": "julia",
   "version": "1.6.3"
  }
 },
 "nbformat": 4,
 "nbformat_minor": 5
}
